{
 "cells": [
  {
   "cell_type": "code",
   "execution_count": 26,
   "id": "6499c93d",
   "metadata": {},
   "outputs": [],
   "source": [
    "import pandas as pd\n",
    "import numpy as np\n",
    "from sklearn.linear_model import LinearRegression\n",
    "from sklearn.preprocessing import LabelEncoder\n",
    "from sklearn.model_selection import train_test_split\n",
    "import joblib"
   ]
  },
  {
   "cell_type": "code",
   "execution_count": 2,
   "id": "987e73da",
   "metadata": {},
   "outputs": [
    {
     "data": {
      "text/html": [
       "<div>\n",
       "<style scoped>\n",
       "    .dataframe tbody tr th:only-of-type {\n",
       "        vertical-align: middle;\n",
       "    }\n",
       "\n",
       "    .dataframe tbody tr th {\n",
       "        vertical-align: top;\n",
       "    }\n",
       "\n",
       "    .dataframe thead th {\n",
       "        text-align: right;\n",
       "    }\n",
       "</style>\n",
       "<table border=\"1\" class=\"dataframe\">\n",
       "  <thead>\n",
       "    <tr style=\"text-align: right;\">\n",
       "      <th></th>\n",
       "      <th>Sl_no</th>\n",
       "      <th>Gender</th>\n",
       "      <th>Age</th>\n",
       "      <th>Height</th>\n",
       "      <th>Weight</th>\n",
       "      <th>Activity</th>\n",
       "      <th>Intensity</th>\n",
       "      <th>Duration</th>\n",
       "      <th>Heart_Rate</th>\n",
       "      <th>Calories</th>\n",
       "    </tr>\n",
       "  </thead>\n",
       "  <tbody>\n",
       "    <tr>\n",
       "      <th>0</th>\n",
       "      <td>1</td>\n",
       "      <td>Female</td>\n",
       "      <td>30</td>\n",
       "      <td>159</td>\n",
       "      <td>59</td>\n",
       "      <td>Outdoor Games</td>\n",
       "      <td>Moderate</td>\n",
       "      <td>29.0</td>\n",
       "      <td>106.0</td>\n",
       "      <td>195</td>\n",
       "    </tr>\n",
       "    <tr>\n",
       "      <th>1</th>\n",
       "      <td>2</td>\n",
       "      <td>Male</td>\n",
       "      <td>38</td>\n",
       "      <td>171</td>\n",
       "      <td>75</td>\n",
       "      <td>Walking</td>\n",
       "      <td>Light</td>\n",
       "      <td>2.0</td>\n",
       "      <td>81.0</td>\n",
       "      <td>5</td>\n",
       "    </tr>\n",
       "    <tr>\n",
       "      <th>2</th>\n",
       "      <td>3</td>\n",
       "      <td>Male</td>\n",
       "      <td>20</td>\n",
       "      <td>183</td>\n",
       "      <td>88</td>\n",
       "      <td>Running</td>\n",
       "      <td>Moderate</td>\n",
       "      <td>16.0</td>\n",
       "      <td>97.0</td>\n",
       "      <td>69</td>\n",
       "    </tr>\n",
       "    <tr>\n",
       "      <th>3</th>\n",
       "      <td>4</td>\n",
       "      <td>Female</td>\n",
       "      <td>25</td>\n",
       "      <td>160</td>\n",
       "      <td>59</td>\n",
       "      <td>Cycling</td>\n",
       "      <td>Moderate</td>\n",
       "      <td>24.0</td>\n",
       "      <td>102.0</td>\n",
       "      <td>136</td>\n",
       "    </tr>\n",
       "    <tr>\n",
       "      <th>4</th>\n",
       "      <td>5</td>\n",
       "      <td>Female</td>\n",
       "      <td>24</td>\n",
       "      <td>165</td>\n",
       "      <td>59</td>\n",
       "      <td>Running</td>\n",
       "      <td>Moderate</td>\n",
       "      <td>18.0</td>\n",
       "      <td>91.0</td>\n",
       "      <td>80</td>\n",
       "    </tr>\n",
       "    <tr>\n",
       "      <th>...</th>\n",
       "      <td>...</td>\n",
       "      <td>...</td>\n",
       "      <td>...</td>\n",
       "      <td>...</td>\n",
       "      <td>...</td>\n",
       "      <td>...</td>\n",
       "      <td>...</td>\n",
       "      <td>...</td>\n",
       "      <td>...</td>\n",
       "      <td>...</td>\n",
       "    </tr>\n",
       "    <tr>\n",
       "      <th>1115</th>\n",
       "      <td>1116</td>\n",
       "      <td>Male</td>\n",
       "      <td>23</td>\n",
       "      <td>181</td>\n",
       "      <td>85</td>\n",
       "      <td>Outdoor Games</td>\n",
       "      <td>Moderate</td>\n",
       "      <td>19.0</td>\n",
       "      <td>93.0</td>\n",
       "      <td>72</td>\n",
       "    </tr>\n",
       "    <tr>\n",
       "      <th>1116</th>\n",
       "      <td>1117</td>\n",
       "      <td>Male</td>\n",
       "      <td>68</td>\n",
       "      <td>185</td>\n",
       "      <td>87</td>\n",
       "      <td>Walking</td>\n",
       "      <td>Moderate</td>\n",
       "      <td>10.0</td>\n",
       "      <td>101.0</td>\n",
       "      <td>72</td>\n",
       "    </tr>\n",
       "    <tr>\n",
       "      <th>1117</th>\n",
       "      <td>1118</td>\n",
       "      <td>Female</td>\n",
       "      <td>57</td>\n",
       "      <td>160</td>\n",
       "      <td>67</td>\n",
       "      <td>Weight_lifting</td>\n",
       "      <td>Moderate</td>\n",
       "      <td>27.0</td>\n",
       "      <td>109.0</td>\n",
       "      <td>185</td>\n",
       "    </tr>\n",
       "    <tr>\n",
       "      <th>1118</th>\n",
       "      <td>1119</td>\n",
       "      <td>Male</td>\n",
       "      <td>40</td>\n",
       "      <td>182</td>\n",
       "      <td>86</td>\n",
       "      <td>Weight_lifting</td>\n",
       "      <td>Moderate</td>\n",
       "      <td>7.0</td>\n",
       "      <td>93.0</td>\n",
       "      <td>32</td>\n",
       "    </tr>\n",
       "    <tr>\n",
       "      <th>1119</th>\n",
       "      <td>1120</td>\n",
       "      <td>Male</td>\n",
       "      <td>22</td>\n",
       "      <td>177</td>\n",
       "      <td>80</td>\n",
       "      <td>Swimming</td>\n",
       "      <td>Light</td>\n",
       "      <td>7.0</td>\n",
       "      <td>86.0</td>\n",
       "      <td>18</td>\n",
       "    </tr>\n",
       "  </tbody>\n",
       "</table>\n",
       "<p>1120 rows × 10 columns</p>\n",
       "</div>"
      ],
      "text/plain": [
       "      Sl_no  Gender  Age  Height  Weight        Activity Intensity  Duration  \\\n",
       "0         1  Female   30     159      59   Outdoor Games  Moderate      29.0   \n",
       "1         2    Male   38     171      75         Walking     Light       2.0   \n",
       "2         3    Male   20     183      88         Running  Moderate      16.0   \n",
       "3         4  Female   25     160      59         Cycling  Moderate      24.0   \n",
       "4         5  Female   24     165      59         Running  Moderate      18.0   \n",
       "...     ...     ...  ...     ...     ...             ...       ...       ...   \n",
       "1115   1116    Male   23     181      85   Outdoor Games  Moderate      19.0   \n",
       "1116   1117    Male   68     185      87         Walking  Moderate      10.0   \n",
       "1117   1118  Female   57     160      67  Weight_lifting  Moderate      27.0   \n",
       "1118   1119    Male   40     182      86  Weight_lifting  Moderate       7.0   \n",
       "1119   1120    Male   22     177      80        Swimming     Light       7.0   \n",
       "\n",
       "      Heart_Rate  Calories  \n",
       "0          106.0       195  \n",
       "1           81.0         5  \n",
       "2           97.0        69  \n",
       "3          102.0       136  \n",
       "4           91.0        80  \n",
       "...          ...       ...  \n",
       "1115        93.0        72  \n",
       "1116       101.0        72  \n",
       "1117       109.0       185  \n",
       "1118        93.0        32  \n",
       "1119        86.0        18  \n",
       "\n",
       "[1120 rows x 10 columns]"
      ]
     },
     "execution_count": 2,
     "metadata": {},
     "output_type": "execute_result"
    }
   ],
   "source": [
    "df=pd.read_excel(\"calorie_dataset.xlsx\")\n",
    "df"
   ]
  },
  {
   "cell_type": "code",
   "execution_count": 3,
   "id": "3834a45c",
   "metadata": {},
   "outputs": [
    {
     "data": {
      "text/plain": [
       "Sl_no         0\n",
       "Gender        0\n",
       "Age           0\n",
       "Height        0\n",
       "Weight        0\n",
       "Activity      0\n",
       "Intensity     0\n",
       "Duration      8\n",
       "Heart_Rate    6\n",
       "Calories      0\n",
       "dtype: int64"
      ]
     },
     "execution_count": 3,
     "metadata": {},
     "output_type": "execute_result"
    }
   ],
   "source": [
    "df.isnull().sum()"
   ]
  },
  {
   "cell_type": "code",
   "execution_count": 4,
   "id": "9f2b4ffd",
   "metadata": {},
   "outputs": [
    {
     "data": {
      "text/plain": [
       "Female    570\n",
       "Male      550\n",
       "Name: Gender, dtype: int64"
      ]
     },
     "execution_count": 4,
     "metadata": {},
     "output_type": "execute_result"
    }
   ],
   "source": [
    "df[\"Gender\"].value_counts()"
   ]
  },
  {
   "cell_type": "code",
   "execution_count": 5,
   "id": "683c00db",
   "metadata": {},
   "outputs": [
    {
     "data": {
      "text/plain": [
       "Swimming                 227\n",
       "Weight_lifting           188\n",
       "Running                  184\n",
       "Cycling                  168\n",
       "Cardio_gym_activities    120\n",
       "Walking                  118\n",
       "Outdoor Games            115\n",
       "Name: Activity, dtype: int64"
      ]
     },
     "execution_count": 5,
     "metadata": {},
     "output_type": "execute_result"
    }
   ],
   "source": [
    "df[\"Activity\"].value_counts()"
   ]
  },
  {
   "cell_type": "code",
   "execution_count": 6,
   "id": "c16ff114",
   "metadata": {},
   "outputs": [
    {
     "data": {
      "text/plain": [
       "Moderate    678\n",
       "Light       376\n",
       "Heavy        66\n",
       "Name: Intensity, dtype: int64"
      ]
     },
     "execution_count": 6,
     "metadata": {},
     "output_type": "execute_result"
    }
   ],
   "source": [
    "df['Intensity'].value_counts()"
   ]
  },
  {
   "cell_type": "code",
   "execution_count": 7,
   "id": "37e0b842",
   "metadata": {},
   "outputs": [
    {
     "data": {
      "text/html": [
       "<div>\n",
       "<style scoped>\n",
       "    .dataframe tbody tr th:only-of-type {\n",
       "        vertical-align: middle;\n",
       "    }\n",
       "\n",
       "    .dataframe tbody tr th {\n",
       "        vertical-align: top;\n",
       "    }\n",
       "\n",
       "    .dataframe thead th {\n",
       "        text-align: right;\n",
       "    }\n",
       "</style>\n",
       "<table border=\"1\" class=\"dataframe\">\n",
       "  <thead>\n",
       "    <tr style=\"text-align: right;\">\n",
       "      <th></th>\n",
       "      <th>Sl_no</th>\n",
       "      <th>Gender</th>\n",
       "      <th>Age</th>\n",
       "      <th>Height</th>\n",
       "      <th>Weight</th>\n",
       "      <th>Activity</th>\n",
       "      <th>Intensity</th>\n",
       "      <th>Duration</th>\n",
       "      <th>Heart_Rate</th>\n",
       "      <th>Calories</th>\n",
       "    </tr>\n",
       "  </thead>\n",
       "  <tbody>\n",
       "    <tr>\n",
       "      <th>0</th>\n",
       "      <td>1</td>\n",
       "      <td>Female</td>\n",
       "      <td>30</td>\n",
       "      <td>159</td>\n",
       "      <td>59</td>\n",
       "      <td>Outdoor Games</td>\n",
       "      <td>Moderate</td>\n",
       "      <td>29.0</td>\n",
       "      <td>106.0</td>\n",
       "      <td>195</td>\n",
       "    </tr>\n",
       "    <tr>\n",
       "      <th>1</th>\n",
       "      <td>2</td>\n",
       "      <td>Male</td>\n",
       "      <td>38</td>\n",
       "      <td>171</td>\n",
       "      <td>75</td>\n",
       "      <td>Walking</td>\n",
       "      <td>Light</td>\n",
       "      <td>2.0</td>\n",
       "      <td>81.0</td>\n",
       "      <td>5</td>\n",
       "    </tr>\n",
       "    <tr>\n",
       "      <th>2</th>\n",
       "      <td>3</td>\n",
       "      <td>Male</td>\n",
       "      <td>20</td>\n",
       "      <td>183</td>\n",
       "      <td>88</td>\n",
       "      <td>Running</td>\n",
       "      <td>Moderate</td>\n",
       "      <td>16.0</td>\n",
       "      <td>97.0</td>\n",
       "      <td>69</td>\n",
       "    </tr>\n",
       "    <tr>\n",
       "      <th>3</th>\n",
       "      <td>4</td>\n",
       "      <td>Female</td>\n",
       "      <td>25</td>\n",
       "      <td>160</td>\n",
       "      <td>59</td>\n",
       "      <td>Cycling</td>\n",
       "      <td>Moderate</td>\n",
       "      <td>24.0</td>\n",
       "      <td>102.0</td>\n",
       "      <td>136</td>\n",
       "    </tr>\n",
       "    <tr>\n",
       "      <th>4</th>\n",
       "      <td>5</td>\n",
       "      <td>Female</td>\n",
       "      <td>24</td>\n",
       "      <td>165</td>\n",
       "      <td>59</td>\n",
       "      <td>Running</td>\n",
       "      <td>Moderate</td>\n",
       "      <td>18.0</td>\n",
       "      <td>91.0</td>\n",
       "      <td>80</td>\n",
       "    </tr>\n",
       "    <tr>\n",
       "      <th>...</th>\n",
       "      <td>...</td>\n",
       "      <td>...</td>\n",
       "      <td>...</td>\n",
       "      <td>...</td>\n",
       "      <td>...</td>\n",
       "      <td>...</td>\n",
       "      <td>...</td>\n",
       "      <td>...</td>\n",
       "      <td>...</td>\n",
       "      <td>...</td>\n",
       "    </tr>\n",
       "    <tr>\n",
       "      <th>1115</th>\n",
       "      <td>1116</td>\n",
       "      <td>Male</td>\n",
       "      <td>23</td>\n",
       "      <td>181</td>\n",
       "      <td>85</td>\n",
       "      <td>Outdoor Games</td>\n",
       "      <td>Moderate</td>\n",
       "      <td>19.0</td>\n",
       "      <td>93.0</td>\n",
       "      <td>72</td>\n",
       "    </tr>\n",
       "    <tr>\n",
       "      <th>1116</th>\n",
       "      <td>1117</td>\n",
       "      <td>Male</td>\n",
       "      <td>68</td>\n",
       "      <td>185</td>\n",
       "      <td>87</td>\n",
       "      <td>Walking</td>\n",
       "      <td>Moderate</td>\n",
       "      <td>10.0</td>\n",
       "      <td>101.0</td>\n",
       "      <td>72</td>\n",
       "    </tr>\n",
       "    <tr>\n",
       "      <th>1117</th>\n",
       "      <td>1118</td>\n",
       "      <td>Female</td>\n",
       "      <td>57</td>\n",
       "      <td>160</td>\n",
       "      <td>67</td>\n",
       "      <td>Weight_lifting</td>\n",
       "      <td>Moderate</td>\n",
       "      <td>27.0</td>\n",
       "      <td>109.0</td>\n",
       "      <td>185</td>\n",
       "    </tr>\n",
       "    <tr>\n",
       "      <th>1118</th>\n",
       "      <td>1119</td>\n",
       "      <td>Male</td>\n",
       "      <td>40</td>\n",
       "      <td>182</td>\n",
       "      <td>86</td>\n",
       "      <td>Weight_lifting</td>\n",
       "      <td>Moderate</td>\n",
       "      <td>7.0</td>\n",
       "      <td>93.0</td>\n",
       "      <td>32</td>\n",
       "    </tr>\n",
       "    <tr>\n",
       "      <th>1119</th>\n",
       "      <td>1120</td>\n",
       "      <td>Male</td>\n",
       "      <td>22</td>\n",
       "      <td>177</td>\n",
       "      <td>80</td>\n",
       "      <td>Swimming</td>\n",
       "      <td>Light</td>\n",
       "      <td>7.0</td>\n",
       "      <td>86.0</td>\n",
       "      <td>18</td>\n",
       "    </tr>\n",
       "  </tbody>\n",
       "</table>\n",
       "<p>1120 rows × 10 columns</p>\n",
       "</div>"
      ],
      "text/plain": [
       "      Sl_no  Gender  Age  Height  Weight        Activity Intensity  Duration  \\\n",
       "0         1  Female   30     159      59   Outdoor Games  Moderate      29.0   \n",
       "1         2    Male   38     171      75         Walking     Light       2.0   \n",
       "2         3    Male   20     183      88         Running  Moderate      16.0   \n",
       "3         4  Female   25     160      59         Cycling  Moderate      24.0   \n",
       "4         5  Female   24     165      59         Running  Moderate      18.0   \n",
       "...     ...     ...  ...     ...     ...             ...       ...       ...   \n",
       "1115   1116    Male   23     181      85   Outdoor Games  Moderate      19.0   \n",
       "1116   1117    Male   68     185      87         Walking  Moderate      10.0   \n",
       "1117   1118  Female   57     160      67  Weight_lifting  Moderate      27.0   \n",
       "1118   1119    Male   40     182      86  Weight_lifting  Moderate       7.0   \n",
       "1119   1120    Male   22     177      80        Swimming     Light       7.0   \n",
       "\n",
       "      Heart_Rate  Calories  \n",
       "0          106.0       195  \n",
       "1           81.0         5  \n",
       "2           97.0        69  \n",
       "3          102.0       136  \n",
       "4           91.0        80  \n",
       "...          ...       ...  \n",
       "1115        93.0        72  \n",
       "1116       101.0        72  \n",
       "1117       109.0       185  \n",
       "1118        93.0        32  \n",
       "1119        86.0        18  \n",
       "\n",
       "[1120 rows x 10 columns]"
      ]
     },
     "execution_count": 7,
     "metadata": {},
     "output_type": "execute_result"
    }
   ],
   "source": [
    "df1=df.copy()\n",
    "df1"
   ]
  },
  {
   "cell_type": "code",
   "execution_count": 8,
   "id": "3e79a70f",
   "metadata": {},
   "outputs": [],
   "source": [
    "le=LabelEncoder()\n",
    "df1[\"Gender\"]=le.fit_transform(df1[\"Gender\"])\n",
    "df1['Activity']=le.fit_transform(df1[\"Activity\"])"
   ]
  },
  {
   "cell_type": "code",
   "execution_count": 9,
   "id": "72a16862",
   "metadata": {},
   "outputs": [],
   "source": [
    "inten_map={\"Light\":0,\"Moderate\":1,\"Heavy\":2}\n",
    "df1[\"Intensity\"]=df1[\"Intensity\"].map(lambda x: inten_map.get(x))"
   ]
  },
  {
   "cell_type": "code",
   "execution_count": 10,
   "id": "bfc4ef57",
   "metadata": {},
   "outputs": [
    {
     "data": {
      "text/plain": [
       "15.568345323741006"
      ]
     },
     "execution_count": 10,
     "metadata": {},
     "output_type": "execute_result"
    }
   ],
   "source": [
    "dur_mean=df1[\"Duration\"].mean()\n",
    "dur_mean"
   ]
  },
  {
   "cell_type": "code",
   "execution_count": 11,
   "id": "ae1736ed",
   "metadata": {},
   "outputs": [
    {
     "data": {
      "text/plain": [
       "95.46319569120287"
      ]
     },
     "execution_count": 11,
     "metadata": {},
     "output_type": "execute_result"
    }
   ],
   "source": [
    "heart_mean=df1[\"Heart_Rate\"].mean()\n",
    "heart_mean"
   ]
  },
  {
   "cell_type": "code",
   "execution_count": 12,
   "id": "abb63b2c",
   "metadata": {},
   "outputs": [],
   "source": [
    "df1=df1.fillna({\"Duration\":int(dur_mean),\"Heart_Rate\":int(heart_mean)})"
   ]
  },
  {
   "cell_type": "code",
   "execution_count": 13,
   "id": "7cd59e8b",
   "metadata": {},
   "outputs": [
    {
     "data": {
      "text/plain": [
       "Sl_no         0\n",
       "Gender        0\n",
       "Age           0\n",
       "Height        0\n",
       "Weight        0\n",
       "Activity      0\n",
       "Intensity     0\n",
       "Duration      0\n",
       "Heart_Rate    0\n",
       "Calories      0\n",
       "dtype: int64"
      ]
     },
     "execution_count": 13,
     "metadata": {},
     "output_type": "execute_result"
    }
   ],
   "source": [
    "df1.isnull().sum()"
   ]
  },
  {
   "cell_type": "code",
   "execution_count": 14,
   "id": "16f71ccf",
   "metadata": {},
   "outputs": [],
   "source": [
    "x=df1.drop([\"Sl_no\",\"Heart_Rate\",\"Calories\"],axis=1)\n",
    "y=df1[\"Calories\"]"
   ]
  },
  {
   "cell_type": "code",
   "execution_count": 15,
   "id": "0a8d59f2",
   "metadata": {},
   "outputs": [],
   "source": [
    "x_train,x_test,y_train,y_test=train_test_split(x,y,test_size=.2,random_state=42)"
   ]
  },
  {
   "cell_type": "code",
   "execution_count": 16,
   "id": "f7019af1",
   "metadata": {},
   "outputs": [
    {
     "data": {
      "text/plain": [
       "0.9306519046552711"
      ]
     },
     "execution_count": 16,
     "metadata": {},
     "output_type": "execute_result"
    }
   ],
   "source": [
    "model=LinearRegression()\n",
    "model.fit(x_train,y_train)\n",
    "model.score(x_test,y_test)"
   ]
  },
  {
   "cell_type": "code",
   "execution_count": 17,
   "id": "c745a078",
   "metadata": {},
   "outputs": [],
   "source": [
    "#Gender::::female-0,male-1\n",
    "#Activity::::Outdoor Games-0 \n",
    "#             Running      -1\n",
    "#             Walking      -2\n",
    "#             cardi-gym-activities -3\n",
    "#             Cycling      -4\n",
    "#             swimming      -5\n",
    "#             weight lifting-6 \n",
    "# Intensity::::::light  -0\n",
    "#                moderate -1\n",
    "#                heavy  -2"
   ]
  },
  {
   "cell_type": "code",
   "execution_count": 18,
   "id": "f3cc68a5",
   "metadata": {},
   "outputs": [
    {
     "name": "stderr",
     "output_type": "stream",
     "text": [
      "C:\\Users\\deept\\AppData\\Local\\Programs\\Python\\Python310\\lib\\site-packages\\sklearn\\base.py:450: UserWarning: X does not have valid feature names, but LinearRegression was fitted with feature names\n",
      "  warnings.warn(\n"
     ]
    },
    {
     "data": {
      "text/plain": [
       "array([79.88874835])"
      ]
     },
     "execution_count": 18,
     "metadata": {},
     "output_type": "execute_result"
    }
   ],
   "source": [
    "# enter gender,Age,Height,Weight,Activity,Intensity,Duration in minute\n",
    "model.predict([[1,26,159,48,3,1,15]])"
   ]
  },
  {
   "cell_type": "code",
   "execution_count": 23,
   "id": "572ab051",
   "metadata": {},
   "outputs": [],
   "source": [
    "pickle.dump(model,open('calorie_model.ipynb','wb'))"
   ]
  },
  {
   "cell_type": "code",
   "execution_count": 24,
   "id": "abfb7273",
   "metadata": {},
   "outputs": [],
   "source": [
    "model1=pickle.load(open('calorie_model.ipynb','rb'))\n"
   ]
  },
  {
   "cell_type": "code",
   "execution_count": 25,
   "id": "8d3da6d0",
   "metadata": {},
   "outputs": [
    {
     "name": "stderr",
     "output_type": "stream",
     "text": [
      "C:\\Users\\deept\\AppData\\Local\\Programs\\Python\\Python310\\lib\\site-packages\\sklearn\\base.py:450: UserWarning: X does not have valid feature names, but LinearRegression was fitted with feature names\n",
      "  warnings.warn(\n"
     ]
    },
    {
     "data": {
      "text/plain": [
       "array([79.88874835])"
      ]
     },
     "execution_count": 25,
     "metadata": {},
     "output_type": "execute_result"
    }
   ],
   "source": [
    "model1.predict([[1,26,159,48,3,1,15]])"
   ]
  },
  {
   "cell_type": "code",
   "execution_count": 28,
   "id": "81c9e08d",
   "metadata": {},
   "outputs": [
    {
     "data": {
      "text/plain": [
       "['lin_model']"
      ]
     },
     "execution_count": 28,
     "metadata": {},
     "output_type": "execute_result"
    }
   ],
   "source": [
    "joblib.dump(model,\"lin_model\")"
   ]
  },
  {
   "cell_type": "code",
   "execution_count": 31,
   "id": "38fcbbb6",
   "metadata": {},
   "outputs": [],
   "source": [
    "model2=joblib.load(\"lin_model\")"
   ]
  },
  {
   "cell_type": "code",
   "execution_count": 32,
   "id": "65183e38",
   "metadata": {},
   "outputs": [
    {
     "name": "stderr",
     "output_type": "stream",
     "text": [
      "C:\\Users\\deept\\AppData\\Local\\Programs\\Python\\Python310\\lib\\site-packages\\sklearn\\base.py:450: UserWarning: X does not have valid feature names, but LinearRegression was fitted with feature names\n",
      "  warnings.warn(\n"
     ]
    },
    {
     "data": {
      "text/plain": [
       "array([79.88874835])"
      ]
     },
     "execution_count": 32,
     "metadata": {},
     "output_type": "execute_result"
    }
   ],
   "source": [
    "model2.predict([[1,26,159,48,3,1,15]])"
   ]
  },
  {
   "cell_type": "code",
   "execution_count": null,
   "id": "14d55a4c",
   "metadata": {},
   "outputs": [],
   "source": []
  }
 ],
 "metadata": {
  "kernelspec": {
   "display_name": "Python 3 (ipykernel)",
   "language": "python",
   "name": "python3"
  },
  "language_info": {
   "codemirror_mode": {
    "name": "ipython",
    "version": 3
   },
   "file_extension": ".py",
   "mimetype": "text/x-python",
   "name": "python",
   "nbconvert_exporter": "python",
   "pygments_lexer": "ipython3",
   "version": "3.10.0"
  }
 },
 "nbformat": 4,
 "nbformat_minor": 5
}
